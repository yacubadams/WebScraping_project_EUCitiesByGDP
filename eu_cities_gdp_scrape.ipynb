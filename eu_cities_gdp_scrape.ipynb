{
 "cells": [
  {
   "cell_type": "code",
   "execution_count": 27,
   "id": "85c650ae-14e5-4c12-bebe-69b8907bd508",
   "metadata": {},
   "outputs": [
    {
     "name": "stdout",
     "output_type": "stream",
     "text": [
      "    Rank                          Metropolitan area  \\\n",
      "0      1            Paris metropolitan area, France   \n",
      "1      2            Madrid Metropolitan Area, Spain   \n",
      "2      3        Berlin Metropolitan Region, Germany   \n",
      "3      4             Milan metropolitan area, Italy   \n",
      "4      5        Munich Metropolitan Region, Germany   \n",
      "..   ...                                        ...   \n",
      "195  196       Konstanz, metropolitan area, Germany   \n",
      "196  197           Namur metropolitan area, Belgium   \n",
      "197  198          Limoges metropolitan area, France   \n",
      "198  199  Leeuwarden metropolitan area, Netherlands   \n",
      "199  200        Kaunas metropolitan area, Lithuania   \n",
      "\n",
      "    Gross metropolitan product (in billions EUR)[2][3]  Year  \n",
      "0                                                764.8  2021  \n",
      "1                                                218.5  2020  \n",
      "2                                                205.1  2020  \n",
      "3                                                204.5  2020  \n",
      "4                                                200.4  2020  \n",
      "..                                                 ...   ...  \n",
      "195                                               10.7  2020  \n",
      "196                                               10.6  2021  \n",
      "197                                               10.6  2021  \n",
      "198                                               10.3  2020  \n",
      "199                                               10.2  2020  \n",
      "\n",
      "[200 rows x 4 columns]\n"
     ]
    }
   ],
   "source": [
    "import requests\n",
    "from bs4 import BeautifulSoup\n",
    "import pandas as pd\n",
    "\n",
    "# Send a GET request to the Wikipedia page\n",
    "url = 'https://en.wikipedia.org/wiki/List_of_EU_metropolitan_areas_by_GDP'\n",
    "response = requests.get(url)\n",
    "\n",
    "# Parse the HTML content using Beautiful Soup\n",
    "soup = BeautifulSoup(response.content, 'html.parser')\n",
    "\n",
    "# Find the table containing the data\n",
    "table = soup.find('table', {'class': 'wikitable sortable'})\n",
    "\n",
    "# Create a list to hold the column names\n",
    "columns = []\n",
    "\n",
    "# Extract the column names from the table header\n",
    "for th in table.find_all('th'):\n",
    "    columns.append(th.text.strip())\n",
    "\n",
    "# Create a list to hold the table data\n",
    "data = []\n",
    "\n",
    "# Extract the table rows and the data from each row\n",
    "for tr in table.find_all('tr')[1:]:\n",
    "    row = []\n",
    "    for td in tr.find_all('td'):\n",
    "        row.append(td.text.strip())\n",
    "    data.append(row)\n",
    "\n",
    "# Create a dataframe from the table data and column names\n",
    "eu_cities_gdp = pd.DataFrame(data, columns=columns)\n",
    "\n",
    "# Export the dataframe to a CSV file\n",
    "eu_cities_gdp.to_csv('eu_cities_gdp.csv', index=False)\n",
    "\n",
    "# Print the dataframe\n",
    "print(eu_cities_gdp)\n"
   ]
  },
  {
   "cell_type": "code",
   "execution_count": 35,
   "id": "e605418a-8677-4561-8a42-c27d057eef61",
   "metadata": {},
   "outputs": [
    {
     "name": "stdout",
     "output_type": "stream",
     "text": [
      "     Rank                          City                     Country  \\\n",
      "0       1       Paris metropolitan area                      France   \n",
      "1       2      Madrid Metropolitan Area                       Spain   \n",
      "2       3    Berlin Metropolitan Region                     Germany   \n",
      "3       4       Milan metropolitan area                       Italy   \n",
      "4       5    Munich Metropolitan Region                     Germany   \n",
      "..    ...                           ...                         ...   \n",
      "195   196                      Konstanz  metropolitan area, Germany   \n",
      "196   197       Namur metropolitan area                     Belgium   \n",
      "197   198     Limoges metropolitan area                      France   \n",
      "198   199  Leeuwarden metropolitan area                 Netherlands   \n",
      "199   200      Kaunas metropolitan area                   Lithuania   \n",
      "\n",
      "     Gross metropolitan product (in billions EUR)[2][3]  Year  \n",
      "0                                                764.8   2021  \n",
      "1                                                218.5   2020  \n",
      "2                                                205.1   2020  \n",
      "3                                                204.5   2020  \n",
      "4                                                200.4   2020  \n",
      "..                                                 ...    ...  \n",
      "195                                               10.7   2020  \n",
      "196                                               10.6   2021  \n",
      "197                                               10.6   2021  \n",
      "198                                               10.3   2020  \n",
      "199                                               10.2   2020  \n",
      "\n",
      "[200 rows x 5 columns]\n"
     ]
    }
   ],
   "source": [
    "# read the CSV file into a pandas dataframe\n",
    "df = pd.read_csv(\"eu_cities_gdp.csv\")\n",
    "\n",
    "# split the Metropolitan area column into City and Country columns\n",
    "df[['City', 'Country']] = df['Metropolitan area'].str.split(', ', n=1, expand=True)\n",
    "\n",
    "# drop the Metropolitan area column\n",
    "df = df.drop('Metropolitan area', axis=1)\n",
    "\n",
    "# move the City and Country columns to the desired positions\n",
    "cols = df.columns.tolist()\n",
    "cols = cols[:1] + cols[-2:] + cols[1:-2]\n",
    "df = df[cols]\n",
    "\n",
    "# save the updated dataframe to a new CSV file\n",
    "df.to_csv(\"eu_cities_gdp.csv\", index=False)\n",
    "\n",
    "# print the updated dataframe\n",
    "print(df)"
   ]
  },
  {
   "cell_type": "code",
   "execution_count": null,
   "id": "52b229e8-cc04-4c8a-8ae7-c233c2992b92",
   "metadata": {},
   "outputs": [],
   "source": []
  },
  {
   "cell_type": "code",
   "execution_count": null,
   "id": "0de8e577-7a88-4c2c-a0bb-78c3d6c7e44f",
   "metadata": {},
   "outputs": [],
   "source": []
  }
 ],
 "metadata": {
  "kernelspec": {
   "display_name": "anaconda-2022.05-py39",
   "language": "python",
   "name": "conda-env-anaconda-2022.05-py39-py"
  },
  "language_info": {
   "codemirror_mode": {
    "name": "ipython",
    "version": 3
   },
   "file_extension": ".py",
   "mimetype": "text/x-python",
   "name": "python",
   "nbconvert_exporter": "python",
   "pygments_lexer": "ipython3",
   "version": "3.9.12"
  }
 },
 "nbformat": 4,
 "nbformat_minor": 5
}
